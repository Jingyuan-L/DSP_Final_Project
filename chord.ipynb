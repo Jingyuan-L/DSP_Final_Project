{
 "cells": [
  {
   "cell_type": "code",
   "execution_count": 7,
   "metadata": {},
   "outputs": [
    {
     "name": "stdout",
     "output_type": "stream",
     "text": [
      "[164.81, 196, 246.94, 311.13, 392]\n"
     ]
    }
   ],
   "source": [
    "chord = [[130.81, 164.81, 196, 261.63, 329.63],\n",
    "         [146.83, 174.61, 220, 293.66, 349.23],\n",
    "         [164.81, 196, 246.94, 311.13, 392],\n",
    "         [174.61, 220, 261.63, 349.23, 440],\n",
    "         [196, 246.94, 293.66, 392, 493.88],\n",
    "         [220, 261.63, 329.63, 440, 523.25]]\n",
    "print(chord[2])"
   ]
  },
  {
   "cell_type": "code",
   "execution_count": null,
   "metadata": {},
   "outputs": [],
   "source": []
  }
 ],
 "metadata": {
  "kernelspec": {
   "display_name": "Python 3",
   "language": "python",
   "name": "python3"
  },
  "language_info": {
   "codemirror_mode": {
    "name": "ipython",
    "version": 3
   },
   "file_extension": ".py",
   "mimetype": "text/x-python",
   "name": "python",
   "nbconvert_exporter": "python",
   "pygments_lexer": "ipython3",
   "version": "3.8.1"
  }
 },
 "nbformat": 4,
 "nbformat_minor": 4
}
